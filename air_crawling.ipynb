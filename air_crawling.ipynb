{
 "cells": [
  {
   "cell_type": "code",
   "execution_count": 10,
   "metadata": {},
   "outputs": [],
   "source": [
    "from selenium import webdriver\n",
    "from selenium.webdriver.common.by import By\n",
    "import time"
   ]
  },
  {
   "cell_type": "code",
   "execution_count": 11,
   "metadata": {},
   "outputs": [],
   "source": [
    "browser = webdriver.Chrome()"
   ]
  },
  {
   "cell_type": "code",
   "execution_count": 12,
   "metadata": {},
   "outputs": [],
   "source": [
    "url = 'http://data.seoul.go.kr/dataList/OA-15526/S/1/datasetView.do'\n",
    "browser.get(url)"
   ]
  },
  {
   "cell_type": "code",
   "execution_count": 15,
   "metadata": {},
   "outputs": [],
   "source": [
    "# list-download\n",
    "table = browser.find_element(By.CLASS_NAME, 'list-download')\n",
    "\n",
    "table.find_element(By.XPATH, '//*[@id=\"fileTr_1\"]/td[6]/a').click()\n",
    "time.sleep(2)\n",
    "table.find_element(By.XPATH, '//*[@id=\"fileTr_2\"]/td[6]/a').click()\n",
    "time.sleep(2)\n",
    "table.find_element(By.XPATH, '//*[@id=\"fileTr_3\"]/td[6]/a').click()\n",
    "time.sleep(2)\n",
    "table.find_element(By.XPATH, '//*[@id=\"fileTr_4\"]/td[6]/a').click()\n",
    "time.sleep(2)\n",
    "table.find_element(By.XPATH, '//*[@id=\"fileTr_5\"]/td[6]/a').click()"
   ]
  }
 ],
 "metadata": {
  "kernelspec": {
   "display_name": "yeardream",
   "language": "python",
   "name": "python3"
  },
  "language_info": {
   "codemirror_mode": {
    "name": "ipython",
    "version": 3
   },
   "file_extension": ".py",
   "mimetype": "text/x-python",
   "name": "python",
   "nbconvert_exporter": "python",
   "pygments_lexer": "ipython3",
   "version": "3.9.16"
  },
  "orig_nbformat": 4
 },
 "nbformat": 4,
 "nbformat_minor": 2
}
