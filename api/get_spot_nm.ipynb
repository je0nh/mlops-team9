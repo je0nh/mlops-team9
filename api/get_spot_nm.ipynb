{
 "cells": [
  {
   "cell_type": "code",
   "execution_count": 1,
   "id": "2dc4a047",
   "metadata": {},
   "outputs": [],
   "source": [
    "import pandas as pd\n",
    "import requests\n",
    "import xml.etree.ElementTree as ET"
   ]
  },
  {
   "cell_type": "code",
   "execution_count": 2,
   "id": "e5bc3e20",
   "metadata": {},
   "outputs": [],
   "source": [
    "f = open(\"./seoul-apikey.txt\", 'r', encoding=\"UTF8\")\n",
    "apikey = f.readline()\n",
    "f.close()"
   ]
  },
  {
   "cell_type": "code",
   "execution_count": 3,
   "id": "2c817232",
   "metadata": {},
   "outputs": [],
   "source": [
    "response = requests.get(\"http://openapi.seoul.go.kr:8088/\"+apikey+\"/xml/SpotInfo/1/1000/\")"
   ]
  },
  {
   "cell_type": "code",
   "execution_count": 4,
   "id": "e3477096",
   "metadata": {},
   "outputs": [],
   "source": [
    "xml_data = response.content.decode('utf-8')\n",
    "xml_split = xml_data.split(\"<spot_num>\")[1:]"
   ]
  },
  {
   "cell_type": "code",
   "execution_count": 5,
   "id": "1bf1465e",
   "metadata": {},
   "outputs": [],
   "source": [
    "spot_list = []\n",
    "for i in xml_split:\n",
    "    temp = []\n",
    "    temp.append(i.split(\"<spot_nm>\")[0].split(\"</spot_nm>\")[0].split(\"</spot_num>\")[0])\n",
    "    temp.append(i.split(\"<spot_nm>\")[1].split(\"</spot_nm>\")[0])\n",
    "    spot_list.append(temp)"
   ]
  },
  {
   "cell_type": "code",
   "execution_count": 7,
   "id": "80f6df70",
   "metadata": {},
   "outputs": [
    {
     "data": {
      "text/html": [
       "<div>\n",
       "<style scoped>\n",
       "    .dataframe tbody tr th:only-of-type {\n",
       "        vertical-align: middle;\n",
       "    }\n",
       "\n",
       "    .dataframe tbody tr th {\n",
       "        vertical-align: top;\n",
       "    }\n",
       "\n",
       "    .dataframe thead th {\n",
       "        text-align: right;\n",
       "    }\n",
       "</style>\n",
       "<table border=\"1\" class=\"dataframe\">\n",
       "  <thead>\n",
       "    <tr style=\"text-align: right;\">\n",
       "      <th></th>\n",
       "      <th>0</th>\n",
       "      <th>1</th>\n",
       "    </tr>\n",
       "  </thead>\n",
       "  <tbody>\n",
       "    <tr>\n",
       "      <th>0</th>\n",
       "      <td>A-01</td>\n",
       "      <td>성산로(금화터널)</td>\n",
       "    </tr>\n",
       "    <tr>\n",
       "      <th>1</th>\n",
       "      <td>A-02</td>\n",
       "      <td>사직로(사직터널)</td>\n",
       "    </tr>\n",
       "    <tr>\n",
       "      <th>2</th>\n",
       "      <td>A-03</td>\n",
       "      <td>자하문로(자하문터널)</td>\n",
       "    </tr>\n",
       "    <tr>\n",
       "      <th>3</th>\n",
       "      <td>A-04</td>\n",
       "      <td>대사관로(삼청터널)</td>\n",
       "    </tr>\n",
       "    <tr>\n",
       "      <th>4</th>\n",
       "      <td>A-05</td>\n",
       "      <td>율곡로(안국역)</td>\n",
       "    </tr>\n",
       "    <tr>\n",
       "      <th>...</th>\n",
       "      <td>...</td>\n",
       "      <td>...</td>\n",
       "    </tr>\n",
       "    <tr>\n",
       "      <th>134</th>\n",
       "      <td>F-06</td>\n",
       "      <td>경부고속도로</td>\n",
       "    </tr>\n",
       "    <tr>\n",
       "      <th>135</th>\n",
       "      <td>F-07</td>\n",
       "      <td>분당수서로</td>\n",
       "    </tr>\n",
       "    <tr>\n",
       "      <th>136</th>\n",
       "      <td>F-08</td>\n",
       "      <td>강남순환로(관악터널)</td>\n",
       "    </tr>\n",
       "    <tr>\n",
       "      <th>137</th>\n",
       "      <td>F-09</td>\n",
       "      <td>서부간선지하도로</td>\n",
       "    </tr>\n",
       "    <tr>\n",
       "      <th>138</th>\n",
       "      <td>F-10</td>\n",
       "      <td>신월여의지하도로</td>\n",
       "    </tr>\n",
       "  </tbody>\n",
       "</table>\n",
       "<p>139 rows × 2 columns</p>\n",
       "</div>"
      ],
      "text/plain": [
       "        0            1\n",
       "0    A-01    성산로(금화터널)\n",
       "1    A-02    사직로(사직터널)\n",
       "2    A-03  자하문로(자하문터널)\n",
       "3    A-04   대사관로(삼청터널)\n",
       "4    A-05     율곡로(안국역)\n",
       "..    ...          ...\n",
       "134  F-06       경부고속도로\n",
       "135  F-07        분당수서로\n",
       "136  F-08  강남순환로(관악터널)\n",
       "137  F-09     서부간선지하도로\n",
       "138  F-10     신월여의지하도로\n",
       "\n",
       "[139 rows x 2 columns]"
      ]
     },
     "execution_count": 7,
     "metadata": {},
     "output_type": "execute_result"
    }
   ],
   "source": [
    "df = pd.DataFrame(spot_list)\n",
    "df"
   ]
  },
  {
   "cell_type": "markdown",
   "id": "de8c32d7",
   "metadata": {},
   "source": []
  },
  {
   "cell_type": "code",
   "execution_count": null,
   "id": "0d1da8b6",
   "metadata": {},
   "outputs": [],
   "source": [
    "df.columns=[\"spot_num\", \"spot_nm\"]\n",
    "df.to_csv('./spot_data.csv', index= False, encoding= \"utf-8-sig\")"
   ]
  }
 ],
 "metadata": {
  "kernelspec": {
   "display_name": "Python 3 (ipykernel)",
   "language": "python",
   "name": "python3"
  },
  "language_info": {
   "codemirror_mode": {
    "name": "ipython",
    "version": 3
   },
   "file_extension": ".py",
   "mimetype": "text/x-python",
   "name": "python",
   "nbconvert_exporter": "python",
   "pygments_lexer": "ipython3",
   "version": "3.10.9"
  }
 },
 "nbformat": 4,
 "nbformat_minor": 5
}
