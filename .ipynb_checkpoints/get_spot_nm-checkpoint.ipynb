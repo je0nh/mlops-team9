{
 "cells": [
  {
   "cell_type": "code",
   "execution_count": 18,
   "id": "2dc4a047",
   "metadata": {},
   "outputs": [],
   "source": [
    "import pandas as pd\n",
    "import requests\n",
    "import xml.etree.ElementTree as ET"
   ]
  },
  {
   "cell_type": "code",
   "execution_count": 72,
   "id": "e5bc3e20",
   "metadata": {},
   "outputs": [],
   "source": [
    "f = open(\"./seoul-apikey.txt\", 'r', encoding=\"UTF8\")\n",
    "apikey = f.readline()\n",
    "f.close()"
   ]
  },
  {
   "cell_type": "code",
   "execution_count": 70,
   "id": "2c817232",
   "metadata": {},
   "outputs": [],
   "source": [
    "response = requests.get(\"http://openapi.seoul.go.kr:8088/\"+apikey+\"/xml/SpotInfo/1/1000/\")"
   ]
  },
  {
   "cell_type": "code",
   "execution_count": 73,
   "id": "e3477096",
   "metadata": {},
   "outputs": [],
   "source": [
    "xml_data = response.content.decode('utf-8')\n",
    "xml_split = xml_data.split(\"<spot_num>\")[1:]"
   ]
  },
  {
   "cell_type": "code",
   "execution_count": null,
   "id": "1bf1465e",
   "metadata": {},
   "outputs": [],
   "source": [
    "spot_list = []\n",
    "for i in xml_split:\n",
    "    temp = []\n",
    "    temp.append(i.split(\"<spot_nm>\")[0].split(\"</spot_nm>\")[0].split(\"</spot_num>\")[0])\n",
    "    temp.append(i.split(\"<spot_nm>\")[1].split(\"</spot_nm>\")[0])\n",
    "    spot_list.append(temp)"
   ]
  },
  {
   "cell_type": "code",
   "execution_count": 76,
   "id": "80f6df70",
   "metadata": {},
   "outputs": [],
   "source": [
    "df = pd.DataFrame(spot_list)\n",
    "df.columns=[\"spot_num\", \"spot_nm\"]\n",
    "df.to_csv('./spot_data.csv', index= False, encoding= \"utf-8-sig\")"
   ]
  }
 ],
 "metadata": {
  "kernelspec": {
   "display_name": "Python 3 (ipykernel)",
   "language": "python",
   "name": "python3"
  },
  "language_info": {
   "codemirror_mode": {
    "name": "ipython",
    "version": 3
   },
   "file_extension": ".py",
   "mimetype": "text/x-python",
   "name": "python",
   "nbconvert_exporter": "python",
   "pygments_lexer": "ipython3",
   "version": "3.10.12"
  }
 },
 "nbformat": 4,
 "nbformat_minor": 5
}
